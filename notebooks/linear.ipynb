{
 "cells": [
  {
   "cell_type": "code",
   "execution_count": 1,
   "id": "1fae500d-0183-49d3-aa9a-1feb63fae229",
   "metadata": {},
   "outputs": [],
   "source": [
    "import matplotlib.pyplot as plt\n",
    "import numpy as np\n",
    "from sklearn import datasets, linear_model\n",
    "from sklearn.metrics import mean_squared_error, r2_score"
   ]
  },
  {
   "cell_type": "markdown",
   "id": "bfc66cbd-3686-476b-89d5-b06edf898e61",
   "metadata": {},
   "source": [
    "<h4> Carregar conjunto de dados do scikit-learn </h4>"
   ]
  },
  {
   "cell_type": "code",
   "execution_count": 2,
   "id": "e4a7cf4d-15bc-44a2-b9d3-15dafd9d7c09",
   "metadata": {},
   "outputs": [],
   "source": [
    "data_x, target_y = datasets.load_diabetes(return_X_y = True)"
   ]
  },
  {
   "cell_type": "markdown",
   "id": "963ceb87-55d3-422f-86c2-9e0ed4a2bd4a",
   "metadata": {},
   "source": [
    "Obs: o argumento **return_X_y** se verdadeiro, retorna uma tupla (data, target)"
   ]
  },
  {
   "cell_type": "code",
   "execution_count": 3,
   "id": "305f229a-3faa-4d6d-a4f8-b0292b3a1d22",
   "metadata": {},
   "outputs": [
    {
     "data": {
      "text/plain": [
       "array([[ 0.03807591,  0.05068012,  0.06169621,  0.02187239, -0.0442235 ,\n",
       "        -0.03482076, -0.04340085, -0.00259226,  0.01990749, -0.01764613],\n",
       "       [-0.00188202, -0.04464164, -0.05147406, -0.02632753, -0.00844872,\n",
       "        -0.01916334,  0.07441156, -0.03949338, -0.06833155, -0.09220405],\n",
       "       [ 0.08529891,  0.05068012,  0.04445121, -0.00567042, -0.04559945,\n",
       "        -0.03419447, -0.03235593, -0.00259226,  0.00286131, -0.02593034],\n",
       "       [-0.08906294, -0.04464164, -0.01159501, -0.03665608,  0.01219057,\n",
       "         0.02499059, -0.03603757,  0.03430886,  0.02268774, -0.00936191],\n",
       "       [ 0.00538306, -0.04464164, -0.03638469,  0.02187239,  0.00393485,\n",
       "         0.01559614,  0.00814208, -0.00259226, -0.03198764, -0.04664087],\n",
       "       [-0.09269548, -0.04464164, -0.04069594, -0.01944183, -0.06899065,\n",
       "        -0.07928784,  0.04127682, -0.0763945 , -0.04117617, -0.09634616],\n",
       "       [-0.04547248,  0.05068012, -0.04716281, -0.01599898, -0.04009564,\n",
       "        -0.02480001,  0.00077881, -0.03949338, -0.06291688, -0.03835666],\n",
       "       [ 0.06350368,  0.05068012, -0.00189471,  0.06662945,  0.09061988,\n",
       "         0.10891438,  0.02286863,  0.01770335, -0.03581619,  0.00306441],\n",
       "       [ 0.04170844,  0.05068012,  0.06169621, -0.04009893, -0.01395254,\n",
       "         0.00620169, -0.02867429, -0.00259226, -0.01495969,  0.01134862],\n",
       "       [-0.07090025, -0.04464164,  0.03906215, -0.03321323, -0.01257658,\n",
       "        -0.03450761, -0.02499266, -0.00259226,  0.06773705, -0.01350402]])"
      ]
     },
     "execution_count": 3,
     "metadata": {},
     "output_type": "execute_result"
    }
   ],
   "source": [
    "data_x[:10]"
   ]
  },
  {
   "cell_type": "code",
   "execution_count": 4,
   "id": "d6399081-221a-4889-ae17-0f645719d728",
   "metadata": {},
   "outputs": [
    {
     "data": {
      "text/plain": [
       "(442,)"
      ]
     },
     "execution_count": 4,
     "metadata": {},
     "output_type": "execute_result"
    }
   ],
   "source": [
    "target_y.shape"
   ]
  },
  {
   "cell_type": "markdown",
   "id": "de0b586a-44c0-4df1-ac36-32959d0591e1",
   "metadata": {},
   "source": [
    "<div>Usar somente uma das variáveis</div>"
   ]
  },
  {
   "cell_type": "code",
   "execution_count": 5,
   "id": "6254bc6b-c1a8-4b97-bc4a-a5d6bed7c228",
   "metadata": {},
   "outputs": [],
   "source": [
    "data_x = data_x[:, np.newaxis, 2]"
   ]
  },
  {
   "cell_type": "markdown",
   "id": "758dbe06-474b-44df-bc4f-7a66dc82d1e6",
   "metadata": {},
   "source": [
    "<h4>Dividir o conjunto de dados em treino e teste</h4>"
   ]
  },
  {
   "cell_type": "markdown",
   "id": "9f45f32a-18a7-49d5-9879-fc21afda6b7a",
   "metadata": {},
   "source": [
    "1. Variável independente (X):"
   ]
  },
  {
   "cell_type": "code",
   "execution_count": 6,
   "id": "024590e3-6e45-48f1-997f-06f1ad647d45",
   "metadata": {},
   "outputs": [],
   "source": [
    "data_x_train = data_x[:-20]\n",
    "data_x_test = data_x[-20:]"
   ]
  },
  {
   "cell_type": "markdown",
   "id": "c5c6645a-7e6b-44df-8e81-18d94b97ef02",
   "metadata": {},
   "source": [
    "2. Variável dependente (y):"
   ]
  },
  {
   "cell_type": "code",
   "execution_count": 7,
   "id": "7006434b-31ec-4488-adb8-0e4f71aa0c6b",
   "metadata": {},
   "outputs": [],
   "source": [
    "target_y_train = target_y[:-20]\n",
    "target_y_test = target_y[-20:]"
   ]
  },
  {
   "cell_type": "markdown",
   "id": "a9c4e905-a35a-41cf-888c-b892d16bdad9",
   "metadata": {},
   "source": [
    "<h4>Criar a Regressão Linear</h4>"
   ]
  },
  {
   "cell_type": "code",
   "execution_count": 8,
   "id": "1a7bafb0-8607-47bb-9347-789262681b25",
   "metadata": {},
   "outputs": [],
   "source": [
    "linear = linear_model.LinearRegression()"
   ]
  },
  {
   "cell_type": "markdown",
   "id": "a3f90cac-ee55-41e9-bf53-deb7fdcde4e5",
   "metadata": {},
   "source": [
    "<h4>Treinar o modelo usando os dados de treino</h4>"
   ]
  },
  {
   "cell_type": "code",
   "execution_count": 9,
   "id": "005e1d1e-ad7c-4579-9bd2-f27f69c1482d",
   "metadata": {},
   "outputs": [
    {
     "data": {
      "text/html": [
       "<style>#sk-container-id-1 {color: black;background-color: white;}#sk-container-id-1 pre{padding: 0;}#sk-container-id-1 div.sk-toggleable {background-color: white;}#sk-container-id-1 label.sk-toggleable__label {cursor: pointer;display: block;width: 100%;margin-bottom: 0;padding: 0.3em;box-sizing: border-box;text-align: center;}#sk-container-id-1 label.sk-toggleable__label-arrow:before {content: \"▸\";float: left;margin-right: 0.25em;color: #696969;}#sk-container-id-1 label.sk-toggleable__label-arrow:hover:before {color: black;}#sk-container-id-1 div.sk-estimator:hover label.sk-toggleable__label-arrow:before {color: black;}#sk-container-id-1 div.sk-toggleable__content {max-height: 0;max-width: 0;overflow: hidden;text-align: left;background-color: #f0f8ff;}#sk-container-id-1 div.sk-toggleable__content pre {margin: 0.2em;color: black;border-radius: 0.25em;background-color: #f0f8ff;}#sk-container-id-1 input.sk-toggleable__control:checked~div.sk-toggleable__content {max-height: 200px;max-width: 100%;overflow: auto;}#sk-container-id-1 input.sk-toggleable__control:checked~label.sk-toggleable__label-arrow:before {content: \"▾\";}#sk-container-id-1 div.sk-estimator input.sk-toggleable__control:checked~label.sk-toggleable__label {background-color: #d4ebff;}#sk-container-id-1 div.sk-label input.sk-toggleable__control:checked~label.sk-toggleable__label {background-color: #d4ebff;}#sk-container-id-1 input.sk-hidden--visually {border: 0;clip: rect(1px 1px 1px 1px);clip: rect(1px, 1px, 1px, 1px);height: 1px;margin: -1px;overflow: hidden;padding: 0;position: absolute;width: 1px;}#sk-container-id-1 div.sk-estimator {font-family: monospace;background-color: #f0f8ff;border: 1px dotted black;border-radius: 0.25em;box-sizing: border-box;margin-bottom: 0.5em;}#sk-container-id-1 div.sk-estimator:hover {background-color: #d4ebff;}#sk-container-id-1 div.sk-parallel-item::after {content: \"\";width: 100%;border-bottom: 1px solid gray;flex-grow: 1;}#sk-container-id-1 div.sk-label:hover label.sk-toggleable__label {background-color: #d4ebff;}#sk-container-id-1 div.sk-serial::before {content: \"\";position: absolute;border-left: 1px solid gray;box-sizing: border-box;top: 0;bottom: 0;left: 50%;z-index: 0;}#sk-container-id-1 div.sk-serial {display: flex;flex-direction: column;align-items: center;background-color: white;padding-right: 0.2em;padding-left: 0.2em;position: relative;}#sk-container-id-1 div.sk-item {position: relative;z-index: 1;}#sk-container-id-1 div.sk-parallel {display: flex;align-items: stretch;justify-content: center;background-color: white;position: relative;}#sk-container-id-1 div.sk-item::before, #sk-container-id-1 div.sk-parallel-item::before {content: \"\";position: absolute;border-left: 1px solid gray;box-sizing: border-box;top: 0;bottom: 0;left: 50%;z-index: -1;}#sk-container-id-1 div.sk-parallel-item {display: flex;flex-direction: column;z-index: 1;position: relative;background-color: white;}#sk-container-id-1 div.sk-parallel-item:first-child::after {align-self: flex-end;width: 50%;}#sk-container-id-1 div.sk-parallel-item:last-child::after {align-self: flex-start;width: 50%;}#sk-container-id-1 div.sk-parallel-item:only-child::after {width: 0;}#sk-container-id-1 div.sk-dashed-wrapped {border: 1px dashed gray;margin: 0 0.4em 0.5em 0.4em;box-sizing: border-box;padding-bottom: 0.4em;background-color: white;}#sk-container-id-1 div.sk-label label {font-family: monospace;font-weight: bold;display: inline-block;line-height: 1.2em;}#sk-container-id-1 div.sk-label-container {text-align: center;}#sk-container-id-1 div.sk-container {/* jupyter's `normalize.less` sets `[hidden] { display: none; }` but bootstrap.min.css set `[hidden] { display: none !important; }` so we also need the `!important` here to be able to override the default hidden behavior on the sphinx rendered scikit-learn.org. See: https://github.com/scikit-learn/scikit-learn/issues/21755 */display: inline-block !important;position: relative;}#sk-container-id-1 div.sk-text-repr-fallback {display: none;}</style><div id=\"sk-container-id-1\" class=\"sk-top-container\"><div class=\"sk-text-repr-fallback\"><pre>LinearRegression()</pre><b>In a Jupyter environment, please rerun this cell to show the HTML representation or trust the notebook. <br />On GitHub, the HTML representation is unable to render, please try loading this page with nbviewer.org.</b></div><div class=\"sk-container\" hidden><div class=\"sk-item\"><div class=\"sk-estimator sk-toggleable\"><input class=\"sk-toggleable__control sk-hidden--visually\" id=\"sk-estimator-id-1\" type=\"checkbox\" checked><label for=\"sk-estimator-id-1\" class=\"sk-toggleable__label sk-toggleable__label-arrow\">LinearRegression</label><div class=\"sk-toggleable__content\"><pre>LinearRegression()</pre></div></div></div></div></div>"
      ],
      "text/plain": [
       "LinearRegression()"
      ]
     },
     "execution_count": 9,
     "metadata": {},
     "output_type": "execute_result"
    }
   ],
   "source": [
    "linear.fit(data_x_train, target_y_train)"
   ]
  },
  {
   "cell_type": "markdown",
   "id": "bf3c0ccd-eddb-4ebe-8f00-0305318a73c5",
   "metadata": {},
   "source": [
    "<h4>Predizer resultados usando o conjunto de teste</h4>"
   ]
  },
  {
   "cell_type": "code",
   "execution_count": 10,
   "id": "342b1354-2862-4586-8f51-4aca279566c6",
   "metadata": {},
   "outputs": [],
   "source": [
    "predict_y = linear.predict(data_x_test)"
   ]
  },
  {
   "cell_type": "markdown",
   "id": "55934061-bf99-420f-834e-bcdc29e3a60c",
   "metadata": {},
   "source": [
    "<h4>Avaliação do modelo</h4>"
   ]
  },
  {
   "cell_type": "markdown",
   "id": "287c1b4c-41b6-4a65-82aa-0efe1678a92f",
   "metadata": {},
   "source": [
    "1. Erro quadrático médio (Mean Squared Error) "
   ]
  },
  {
   "cell_type": "code",
   "execution_count": 11,
   "id": "52fb45fc-fb8d-4861-b727-a48dd1b2e422",
   "metadata": {},
   "outputs": [
    {
     "name": "stdout",
     "output_type": "stream",
     "text": [
      "Erro quadrático médio: 2548.1\n"
     ]
    }
   ],
   "source": [
    "error = mean_squared_error(target_y_test, predict_y)\n",
    "print(\"Erro quadrático médio: %.1f\" % error)"
   ]
  },
  {
   "cell_type": "markdown",
   "id": "30042b08-45de-4c4c-accd-def9ac38b4cc",
   "metadata": {},
   "source": [
    "2. R2 Score"
   ]
  },
  {
   "cell_type": "code",
   "execution_count": 12,
   "id": "afb8080d-220c-4932-bb31-165961914ac4",
   "metadata": {},
   "outputs": [
    {
     "name": "stdout",
     "output_type": "stream",
     "text": [
      "R2 Score: 0.473\n"
     ]
    }
   ],
   "source": [
    "score = r2_score(target_y_test, predict_y)\n",
    "print(\"R2 Score: %.3f\" % score)"
   ]
  },
  {
   "cell_type": "markdown",
   "id": "62607662-9c05-4718-90da-b0ab73cfbdbc",
   "metadata": {},
   "source": [
    "obs: R2 score é também chamado de coeficiente de determinação e se for igual a 1, a predição está perfeita"
   ]
  },
  {
   "cell_type": "markdown",
   "id": "574732e8-9a87-463e-989d-cd7437cfe896",
   "metadata": {},
   "source": [
    "<h4> Representação Gráfica</h4>"
   ]
  },
  {
   "cell_type": "code",
   "execution_count": 13,
   "id": "f1fd3f7c-d139-4684-ac4f-e07908e95c95",
   "metadata": {},
   "outputs": [
    {
     "data": {
      "image/png": "[encoded data removed]",
      "text/plain": [
       "<Figure size 640x480 with 1 Axes>"
      ]
     },
     "metadata": {},
     "output_type": "display_data"
    }
   ],
   "source": [
    "plt.scatter(data_x_test, target_y_test, color=\"tomato\")\n",
    "plt.plot(data_x_test, predict_y, color=\"darkmagenta\", linewidth=2)\n",
    "# plt.xticks(())\n",
    "# plt.yticks(())\n",
    "plt.show()"
   ]
  },
  {
   "cell_type": "code",
   "execution_count": null,
   "id": "2a429651-a7b4-4448-ba82-023023920e65",
   "metadata": {},
   "outputs": [],
   "source": []
  }
 ],
 "metadata": {
  "kernelspec": {
   "display_name": "Python 3 (ipykernel)",
   "language": "python",
   "name": "python3"
  },
  "language_info": {
   "codemirror_mode": {
    "name": "ipython",
    "version": 3
   },
   "file_extension": ".py",
   "mimetype": "text/x-python",
   "name": "python",
   "nbconvert_exporter": "python",
   "pygments_lexer": "ipython3",
   "version": "3.8.10"
  }
 },
 "nbformat": 4,
 "nbformat_minor": 5
}
